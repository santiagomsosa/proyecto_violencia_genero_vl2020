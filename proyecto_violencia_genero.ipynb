{
 "cells": [
  {
   "cell_type": "markdown",
   "metadata": {},
   "source": [
    "# Violencia de Genero - Dataset Vicente Lopez"
   ]
  },
  {
   "cell_type": "markdown",
   "metadata": {},
   "source": [
    "Este proyecto tiene como objetivo analizar los casos de Violencia de Genero en el municipio de vicente lopez."
   ]
  },
  {
   "cell_type": "markdown",
   "metadata": {},
   "source": [
    "Importamos Librerias:"
   ]
  },
  {
   "cell_type": "code",
   "execution_count": 19,
   "metadata": {},
   "outputs": [],
   "source": [
    "#Importar paquetes de herramientas:\n",
    "\n",
    "#Datos\n",
    "import pandas as pd\n",
    "import numpy as np\n",
    "import requests\n",
    "from io import StringIO\n",
    "import datetime\n",
    "#Graficos \n",
    "import matplotlib.pyplot as plt\n",
    "import seaborn as sns\n",
    "#Otros \n",
    "import warnings\n",
    "warnings.filterwarnings('ignore')"
   ]
  },
  {
   "cell_type": "markdown",
   "metadata": {},
   "source": [
    "## Dataset"
   ]
  },
  {
   "cell_type": "markdown",
   "metadata": {},
   "source": [
    "El dataset a utilizar se encuentra en: http://vicentelopez.opendata.junar.com/datasets/189974/violencia-de-genero/"
   ]
  },
  {
   "cell_type": "code",
   "execution_count": 20,
   "metadata": {},
   "outputs": [
    {
     "name": "stdout",
     "output_type": "stream",
     "text": [
      "Filas: 10731\n",
      "Columnas: 11\n",
      "\n"
     ]
    }
   ],
   "source": [
    "#Importamos el dataset\n",
    "ds_tickets = pd.read_excel('tickets_violencia_.xlsx')\n",
    "\n",
    "#Obtenemos la cantidad de filas\n",
    "filas = np.shape(ds_tickets)[0] \n",
    "print(f'Filas: {filas}')\n",
    "\n",
    "#Obtenemos la cantidad de features o columnas\n",
    "columnas = np.shape(ds_tickets)[1]\n",
    "print(f'Columnas: {columnas}\\r\\n')"
   ]
  },
  {
   "cell_type": "code",
   "execution_count": 21,
   "metadata": {},
   "outputs": [
    {
     "data": {
      "text/html": [
       "<div>\n",
       "<style scoped>\n",
       "    .dataframe tbody tr th:only-of-type {\n",
       "        vertical-align: middle;\n",
       "    }\n",
       "\n",
       "    .dataframe tbody tr th {\n",
       "        vertical-align: top;\n",
       "    }\n",
       "\n",
       "    .dataframe thead th {\n",
       "        text-align: right;\n",
       "    }\n",
       "</style>\n",
       "<table border=\"1\" class=\"dataframe\">\n",
       "  <thead>\n",
       "    <tr style=\"text-align: right;\">\n",
       "      <th></th>\n",
       "      <th>fecha_creacion_ticket</th>\n",
       "      <th>fecha_cierre_ticket</th>\n",
       "      <th>estadoticket</th>\n",
       "      <th>resultado_ticket</th>\n",
       "      <th>fecha_hora_ini_llamada</th>\n",
       "      <th>fecha_hora_fin_llamada</th>\n",
       "      <th>nombre_tipo_evento</th>\n",
       "      <th>nombre_subtipo_evento</th>\n",
       "      <th>origen_llamada</th>\n",
       "      <th>fecha_hora_asig</th>\n",
       "      <th>fecha_hora_arrib</th>\n",
       "    </tr>\n",
       "  </thead>\n",
       "  <tbody>\n",
       "    <tr>\n",
       "      <th>0</th>\n",
       "      <td>2017-12-19 17:15:07</td>\n",
       "      <td>2017-12-19 16:10:07</td>\n",
       "      <td>Cerrado</td>\n",
       "      <td>Positivo</td>\n",
       "      <td>2017-12-19 17:13:16</td>\n",
       "      <td>2017-12-19 17:15:06</td>\n",
       "      <td>ConfrontaciÃ³n</td>\n",
       "      <td>Familiar</td>\n",
       "      <td>911</td>\n",
       "      <td>2017-12-19 17:26:48</td>\n",
       "      <td>2017-12-19 17:27:16</td>\n",
       "    </tr>\n",
       "    <tr>\n",
       "      <th>1</th>\n",
       "      <td>2017-12-19 20:40:08</td>\n",
       "      <td>2017-12-19 19:24:59</td>\n",
       "      <td>Cerrado</td>\n",
       "      <td>Positivo</td>\n",
       "      <td>2017-12-19 20:38:17</td>\n",
       "      <td>2017-12-19 20:40:08</td>\n",
       "      <td>Violencia Familiar No Infantil</td>\n",
       "      <td>Familiar</td>\n",
       "      <td>911</td>\n",
       "      <td>2017-12-19 20:42:34</td>\n",
       "      <td>2017-12-19 20:43:11</td>\n",
       "    </tr>\n",
       "    <tr>\n",
       "      <th>2</th>\n",
       "      <td>2017-12-19 22:44:21</td>\n",
       "      <td>2017-12-19 21:31:21</td>\n",
       "      <td>Cerrado</td>\n",
       "      <td>Negativo</td>\n",
       "      <td>2017-12-19 22:43:43</td>\n",
       "      <td>2017-12-19 22:44:21</td>\n",
       "      <td>ConfrontaciÃ³n</td>\n",
       "      <td>Familiar</td>\n",
       "      <td>911</td>\n",
       "      <td>2017-12-19 22:51:48</td>\n",
       "      <td>2017-12-19 22:52:00</td>\n",
       "    </tr>\n",
       "    <tr>\n",
       "      <th>3</th>\n",
       "      <td>2017-12-19 23:24:49</td>\n",
       "      <td>2017-12-19 21:35:39</td>\n",
       "      <td>Cerrado</td>\n",
       "      <td>Negativo</td>\n",
       "      <td>2017-12-19 23:24:23</td>\n",
       "      <td>2017-12-19 23:24:49</td>\n",
       "      <td>ConfrontaciÃ³n</td>\n",
       "      <td>Familiar</td>\n",
       "      <td>911</td>\n",
       "      <td>2017-12-19 23:35:53</td>\n",
       "      <td>NaT</td>\n",
       "    </tr>\n",
       "    <tr>\n",
       "      <th>4</th>\n",
       "      <td>2017-12-19 23:39:56</td>\n",
       "      <td>2017-12-19 21:36:33</td>\n",
       "      <td>Cerrado</td>\n",
       "      <td>Negativo</td>\n",
       "      <td>2017-12-19 23:39:23</td>\n",
       "      <td>2017-12-19 23:39:56</td>\n",
       "      <td>Violencia Familiar No Infantil</td>\n",
       "      <td>De Genero</td>\n",
       "      <td>911</td>\n",
       "      <td>2017-12-19 23:40:54</td>\n",
       "      <td>2017-12-19 23:44:49</td>\n",
       "    </tr>\n",
       "  </tbody>\n",
       "</table>\n",
       "</div>"
      ],
      "text/plain": [
       "  fecha_creacion_ticket fecha_cierre_ticket estadoticket resultado_ticket  \\\n",
       "0   2017-12-19 17:15:07 2017-12-19 16:10:07      Cerrado         Positivo   \n",
       "1   2017-12-19 20:40:08 2017-12-19 19:24:59      Cerrado         Positivo   \n",
       "2   2017-12-19 22:44:21 2017-12-19 21:31:21      Cerrado         Negativo   \n",
       "3   2017-12-19 23:24:49 2017-12-19 21:35:39      Cerrado         Negativo   \n",
       "4   2017-12-19 23:39:56 2017-12-19 21:36:33      Cerrado         Negativo   \n",
       "\n",
       "  fecha_hora_ini_llamada fecha_hora_fin_llamada  \\\n",
       "0    2017-12-19 17:13:16    2017-12-19 17:15:06   \n",
       "1    2017-12-19 20:38:17    2017-12-19 20:40:08   \n",
       "2    2017-12-19 22:43:43    2017-12-19 22:44:21   \n",
       "3    2017-12-19 23:24:23    2017-12-19 23:24:49   \n",
       "4    2017-12-19 23:39:23    2017-12-19 23:39:56   \n",
       "\n",
       "               nombre_tipo_evento nombre_subtipo_evento origen_llamada  \\\n",
       "0                  ConfrontaciÃ³n              Familiar            911   \n",
       "1  Violencia Familiar No Infantil              Familiar            911   \n",
       "2                  ConfrontaciÃ³n              Familiar            911   \n",
       "3                  ConfrontaciÃ³n              Familiar            911   \n",
       "4  Violencia Familiar No Infantil             De Genero            911   \n",
       "\n",
       "      fecha_hora_asig    fecha_hora_arrib  \n",
       "0 2017-12-19 17:26:48 2017-12-19 17:27:16  \n",
       "1 2017-12-19 20:42:34 2017-12-19 20:43:11  \n",
       "2 2017-12-19 22:51:48 2017-12-19 22:52:00  \n",
       "3 2017-12-19 23:35:53                 NaT  \n",
       "4 2017-12-19 23:40:54 2017-12-19 23:44:49  "
      ]
     },
     "execution_count": 21,
     "metadata": {},
     "output_type": "execute_result"
    }
   ],
   "source": [
    "#Imprimimos las primeras filas\n",
    "ds_tickets.head()"
   ]
  },
  {
   "cell_type": "code",
   "execution_count": 22,
   "metadata": {},
   "outputs": [
    {
     "data": {
      "text/html": [
       "<div>\n",
       "<style scoped>\n",
       "    .dataframe tbody tr th:only-of-type {\n",
       "        vertical-align: middle;\n",
       "    }\n",
       "\n",
       "    .dataframe tbody tr th {\n",
       "        vertical-align: top;\n",
       "    }\n",
       "\n",
       "    .dataframe thead th {\n",
       "        text-align: right;\n",
       "    }\n",
       "</style>\n",
       "<table border=\"1\" class=\"dataframe\">\n",
       "  <thead>\n",
       "    <tr style=\"text-align: right;\">\n",
       "      <th></th>\n",
       "      <th>fecha_creacion_ticket</th>\n",
       "      <th>fecha_cierre_ticket</th>\n",
       "      <th>estadoticket</th>\n",
       "      <th>resultado_ticket</th>\n",
       "      <th>fecha_hora_ini_llamada</th>\n",
       "      <th>fecha_hora_fin_llamada</th>\n",
       "      <th>nombre_tipo_evento</th>\n",
       "      <th>nombre_subtipo_evento</th>\n",
       "      <th>origen_llamada</th>\n",
       "      <th>fecha_hora_asig</th>\n",
       "      <th>fecha_hora_arrib</th>\n",
       "    </tr>\n",
       "  </thead>\n",
       "  <tbody>\n",
       "    <tr>\n",
       "      <th>0</th>\n",
       "      <td>2017-12-19 17:15:07</td>\n",
       "      <td>2017-12-19 16:10:07</td>\n",
       "      <td>Cerrado</td>\n",
       "      <td>Positivo</td>\n",
       "      <td>2017-12-19 17:13:16</td>\n",
       "      <td>2017-12-19 17:15:06</td>\n",
       "      <td>Confrontación</td>\n",
       "      <td>Familiar</td>\n",
       "      <td>911</td>\n",
       "      <td>2017-12-19 17:26:48</td>\n",
       "      <td>2017-12-19 17:27:16</td>\n",
       "    </tr>\n",
       "    <tr>\n",
       "      <th>1</th>\n",
       "      <td>2017-12-19 20:40:08</td>\n",
       "      <td>2017-12-19 19:24:59</td>\n",
       "      <td>Cerrado</td>\n",
       "      <td>Positivo</td>\n",
       "      <td>2017-12-19 20:38:17</td>\n",
       "      <td>2017-12-19 20:40:08</td>\n",
       "      <td>Violencia Familiar No Infantil</td>\n",
       "      <td>Familiar</td>\n",
       "      <td>911</td>\n",
       "      <td>2017-12-19 20:42:34</td>\n",
       "      <td>2017-12-19 20:43:11</td>\n",
       "    </tr>\n",
       "    <tr>\n",
       "      <th>2</th>\n",
       "      <td>2017-12-19 22:44:21</td>\n",
       "      <td>2017-12-19 21:31:21</td>\n",
       "      <td>Cerrado</td>\n",
       "      <td>Negativo</td>\n",
       "      <td>2017-12-19 22:43:43</td>\n",
       "      <td>2017-12-19 22:44:21</td>\n",
       "      <td>Confrontación</td>\n",
       "      <td>Familiar</td>\n",
       "      <td>911</td>\n",
       "      <td>2017-12-19 22:51:48</td>\n",
       "      <td>2017-12-19 22:52:00</td>\n",
       "    </tr>\n",
       "    <tr>\n",
       "      <th>3</th>\n",
       "      <td>2017-12-19 23:24:49</td>\n",
       "      <td>2017-12-19 21:35:39</td>\n",
       "      <td>Cerrado</td>\n",
       "      <td>Negativo</td>\n",
       "      <td>2017-12-19 23:24:23</td>\n",
       "      <td>2017-12-19 23:24:49</td>\n",
       "      <td>Confrontación</td>\n",
       "      <td>Familiar</td>\n",
       "      <td>911</td>\n",
       "      <td>2017-12-19 23:35:53</td>\n",
       "      <td>NaT</td>\n",
       "    </tr>\n",
       "    <tr>\n",
       "      <th>4</th>\n",
       "      <td>2017-12-19 23:39:56</td>\n",
       "      <td>2017-12-19 21:36:33</td>\n",
       "      <td>Cerrado</td>\n",
       "      <td>Negativo</td>\n",
       "      <td>2017-12-19 23:39:23</td>\n",
       "      <td>2017-12-19 23:39:56</td>\n",
       "      <td>Violencia Familiar No Infantil</td>\n",
       "      <td>De Genero</td>\n",
       "      <td>911</td>\n",
       "      <td>2017-12-19 23:40:54</td>\n",
       "      <td>2017-12-19 23:44:49</td>\n",
       "    </tr>\n",
       "  </tbody>\n",
       "</table>\n",
       "</div>"
      ],
      "text/plain": [
       "  fecha_creacion_ticket fecha_cierre_ticket estadoticket resultado_ticket  \\\n",
       "0   2017-12-19 17:15:07 2017-12-19 16:10:07      Cerrado         Positivo   \n",
       "1   2017-12-19 20:40:08 2017-12-19 19:24:59      Cerrado         Positivo   \n",
       "2   2017-12-19 22:44:21 2017-12-19 21:31:21      Cerrado         Negativo   \n",
       "3   2017-12-19 23:24:49 2017-12-19 21:35:39      Cerrado         Negativo   \n",
       "4   2017-12-19 23:39:56 2017-12-19 21:36:33      Cerrado         Negativo   \n",
       "\n",
       "  fecha_hora_ini_llamada fecha_hora_fin_llamada  \\\n",
       "0    2017-12-19 17:13:16    2017-12-19 17:15:06   \n",
       "1    2017-12-19 20:38:17    2017-12-19 20:40:08   \n",
       "2    2017-12-19 22:43:43    2017-12-19 22:44:21   \n",
       "3    2017-12-19 23:24:23    2017-12-19 23:24:49   \n",
       "4    2017-12-19 23:39:23    2017-12-19 23:39:56   \n",
       "\n",
       "               nombre_tipo_evento nombre_subtipo_evento origen_llamada  \\\n",
       "0                   Confrontación              Familiar            911   \n",
       "1  Violencia Familiar No Infantil              Familiar            911   \n",
       "2                   Confrontación              Familiar            911   \n",
       "3                   Confrontación              Familiar            911   \n",
       "4  Violencia Familiar No Infantil             De Genero            911   \n",
       "\n",
       "      fecha_hora_asig    fecha_hora_arrib  \n",
       "0 2017-12-19 17:26:48 2017-12-19 17:27:16  \n",
       "1 2017-12-19 20:42:34 2017-12-19 20:43:11  \n",
       "2 2017-12-19 22:51:48 2017-12-19 22:52:00  \n",
       "3 2017-12-19 23:35:53                 NaT  \n",
       "4 2017-12-19 23:40:54 2017-12-19 23:44:49  "
      ]
     },
     "execution_count": 22,
     "metadata": {},
     "output_type": "execute_result"
    }
   ],
   "source": [
    "#Cambiamos la codificación de la columna nombre_tipo_evento\n",
    "ds_tickets['nombre_tipo_evento'].replace({'á':'a','é':'e','í':'i','ó':'o','ú':'u'})\n",
    "ds_tickets['nombre_tipo_evento'] = ds_tickets['nombre_tipo_evento'].str.encode('latin-1').str.decode('utf-8', 'ignore')\n",
    "ds_tickets.head()"
   ]
  },
  {
   "cell_type": "code",
   "execution_count": 23,
   "metadata": {},
   "outputs": [
    {
     "data": {
      "text/plain": [
       "array(['fecha_creacion_ticket', 'fecha_cierre_ticket', 'estadoticket',\n",
       "       'resultado_ticket', 'fecha_hora_ini_llamada',\n",
       "       'fecha_hora_fin_llamada', 'nombre_tipo_evento',\n",
       "       'nombre_subtipo_evento', 'origen_llamada', 'fecha_hora_asig',\n",
       "       'fecha_hora_arrib'], dtype=object)"
      ]
     },
     "execution_count": 23,
     "metadata": {},
     "output_type": "execute_result"
    }
   ],
   "source": [
    "#Vemos que columnas tenemos\n",
    "ds_tickets.columns.values"
   ]
  },
  {
   "cell_type": "code",
   "execution_count": 24,
   "metadata": {},
   "outputs": [
    {
     "data": {
      "text/plain": [
       "array(['Confrontación', 'Violencia Familiar No Infantil',\n",
       "       'Boton de Panico', 'Alarmas', 'Botón de Pánico',\n",
       "       'Violencia de Genero'], dtype=object)"
      ]
     },
     "execution_count": 24,
     "metadata": {},
     "output_type": "execute_result"
    }
   ],
   "source": [
    "#Revisemos los tipos de casos que hay\n",
    "ds_tickets.nombre_tipo_evento.unique()"
   ]
  },
  {
   "cell_type": "code",
   "execution_count": 25,
   "metadata": {},
   "outputs": [
    {
     "data": {
      "image/png": "[encoded data removed]",
      "text/plain": [
       "<Figure size 1080x216 with 1 Axes>"
      ]
     },
     "metadata": {
      "needs_background": "light"
     },
     "output_type": "display_data"
    }
   ],
   "source": [
    "plt.figure(figsize=(15,3))\n",
    "g = sns.countplot(x=\"nombre_tipo_evento\", data=ds_tickets,\n",
    "                  palette = \"muted\",\n",
    "                 order = ds_tickets['nombre_tipo_evento'].value_counts().index)\n",
    "g.set_xticklabels(g.get_xticklabels(), rotation=90, ha=\"right\")\n",
    "plt.title('Cantidad de Tickets por Tipo de Ticket', size = 20)\n",
    "plt.xlabel(\"Tipo de Ticket\", size = 20)\n",
    "plt.ylabel(\"Cantidades\", size = 20)\n",
    "plt.show()"
   ]
  },
  {
   "cell_type": "markdown",
   "metadata": {},
   "source": [
    "Como podemos ver en el gráfico anterior, nuestro dataset tiene varias 6 categorías de tickets."
   ]
  },
  {
   "cell_type": "code",
   "execution_count": 27,
   "metadata": {},
   "outputs": [],
   "source": [
    "#Tomamos el dato de fecha y creamos columnas con los datos desagregados\n",
    "ds_tickets['fecha_c_ticket'] = pd.to_datetime(ds_tickets['fecha_creacion_ticket'])\n",
    "ds_tickets['hora_c_ticket'] = [d.time() for d in ds_tickets['fecha_creacion_ticket']]\n",
    "ds_tickets['anio_ticket'] = ds_tickets.fecha_creacion_ticket.dt.year\n",
    "ds_tickets['mes_ticket'] = ds_tickets.fecha_creacion_ticket.dt.month"
   ]
  },
  {
   "cell_type": "code",
   "execution_count": 28,
   "metadata": {},
   "outputs": [
    {
     "data": {
      "text/html": [
       "<div>\n",
       "<style scoped>\n",
       "    .dataframe tbody tr th:only-of-type {\n",
       "        vertical-align: middle;\n",
       "    }\n",
       "\n",
       "    .dataframe tbody tr th {\n",
       "        vertical-align: top;\n",
       "    }\n",
       "\n",
       "    .dataframe thead th {\n",
       "        text-align: right;\n",
       "    }\n",
       "</style>\n",
       "<table border=\"1\" class=\"dataframe\">\n",
       "  <thead>\n",
       "    <tr style=\"text-align: right;\">\n",
       "      <th></th>\n",
       "      <th>fecha_creacion_ticket</th>\n",
       "      <th>fecha_cierre_ticket</th>\n",
       "      <th>estadoticket</th>\n",
       "      <th>resultado_ticket</th>\n",
       "      <th>fecha_hora_ini_llamada</th>\n",
       "      <th>fecha_hora_fin_llamada</th>\n",
       "      <th>nombre_tipo_evento</th>\n",
       "      <th>nombre_subtipo_evento</th>\n",
       "      <th>origen_llamada</th>\n",
       "      <th>fecha_hora_asig</th>\n",
       "      <th>fecha_hora_arrib</th>\n",
       "      <th>fecha_c_ticket</th>\n",
       "      <th>hora_c_ticket</th>\n",
       "      <th>anio_ticket</th>\n",
       "      <th>mes_ticket</th>\n",
       "    </tr>\n",
       "  </thead>\n",
       "  <tbody>\n",
       "    <tr>\n",
       "      <th>0</th>\n",
       "      <td>2017-12-19 17:15:07</td>\n",
       "      <td>2017-12-19 16:10:07</td>\n",
       "      <td>Cerrado</td>\n",
       "      <td>Positivo</td>\n",
       "      <td>2017-12-19 17:13:16</td>\n",
       "      <td>2017-12-19 17:15:06</td>\n",
       "      <td>Confrontación</td>\n",
       "      <td>Familiar</td>\n",
       "      <td>911</td>\n",
       "      <td>2017-12-19 17:26:48</td>\n",
       "      <td>2017-12-19 17:27:16</td>\n",
       "      <td>2017-12-19 17:15:07</td>\n",
       "      <td>17:15:07</td>\n",
       "      <td>2017</td>\n",
       "      <td>12</td>\n",
       "    </tr>\n",
       "    <tr>\n",
       "      <th>1</th>\n",
       "      <td>2017-12-19 20:40:08</td>\n",
       "      <td>2017-12-19 19:24:59</td>\n",
       "      <td>Cerrado</td>\n",
       "      <td>Positivo</td>\n",
       "      <td>2017-12-19 20:38:17</td>\n",
       "      <td>2017-12-19 20:40:08</td>\n",
       "      <td>Violencia Familiar No Infantil</td>\n",
       "      <td>Familiar</td>\n",
       "      <td>911</td>\n",
       "      <td>2017-12-19 20:42:34</td>\n",
       "      <td>2017-12-19 20:43:11</td>\n",
       "      <td>2017-12-19 20:40:08</td>\n",
       "      <td>20:40:08</td>\n",
       "      <td>2017</td>\n",
       "      <td>12</td>\n",
       "    </tr>\n",
       "    <tr>\n",
       "      <th>2</th>\n",
       "      <td>2017-12-19 22:44:21</td>\n",
       "      <td>2017-12-19 21:31:21</td>\n",
       "      <td>Cerrado</td>\n",
       "      <td>Negativo</td>\n",
       "      <td>2017-12-19 22:43:43</td>\n",
       "      <td>2017-12-19 22:44:21</td>\n",
       "      <td>Confrontación</td>\n",
       "      <td>Familiar</td>\n",
       "      <td>911</td>\n",
       "      <td>2017-12-19 22:51:48</td>\n",
       "      <td>2017-12-19 22:52:00</td>\n",
       "      <td>2017-12-19 22:44:21</td>\n",
       "      <td>22:44:21</td>\n",
       "      <td>2017</td>\n",
       "      <td>12</td>\n",
       "    </tr>\n",
       "    <tr>\n",
       "      <th>3</th>\n",
       "      <td>2017-12-19 23:24:49</td>\n",
       "      <td>2017-12-19 21:35:39</td>\n",
       "      <td>Cerrado</td>\n",
       "      <td>Negativo</td>\n",
       "      <td>2017-12-19 23:24:23</td>\n",
       "      <td>2017-12-19 23:24:49</td>\n",
       "      <td>Confrontación</td>\n",
       "      <td>Familiar</td>\n",
       "      <td>911</td>\n",
       "      <td>2017-12-19 23:35:53</td>\n",
       "      <td>NaT</td>\n",
       "      <td>2017-12-19 23:24:49</td>\n",
       "      <td>23:24:49</td>\n",
       "      <td>2017</td>\n",
       "      <td>12</td>\n",
       "    </tr>\n",
       "    <tr>\n",
       "      <th>4</th>\n",
       "      <td>2017-12-19 23:39:56</td>\n",
       "      <td>2017-12-19 21:36:33</td>\n",
       "      <td>Cerrado</td>\n",
       "      <td>Negativo</td>\n",
       "      <td>2017-12-19 23:39:23</td>\n",
       "      <td>2017-12-19 23:39:56</td>\n",
       "      <td>Violencia Familiar No Infantil</td>\n",
       "      <td>De Genero</td>\n",
       "      <td>911</td>\n",
       "      <td>2017-12-19 23:40:54</td>\n",
       "      <td>2017-12-19 23:44:49</td>\n",
       "      <td>2017-12-19 23:39:56</td>\n",
       "      <td>23:39:56</td>\n",
       "      <td>2017</td>\n",
       "      <td>12</td>\n",
       "    </tr>\n",
       "  </tbody>\n",
       "</table>\n",
       "</div>"
      ],
      "text/plain": [
       "  fecha_creacion_ticket fecha_cierre_ticket estadoticket resultado_ticket  \\\n",
       "0   2017-12-19 17:15:07 2017-12-19 16:10:07      Cerrado         Positivo   \n",
       "1   2017-12-19 20:40:08 2017-12-19 19:24:59      Cerrado         Positivo   \n",
       "2   2017-12-19 22:44:21 2017-12-19 21:31:21      Cerrado         Negativo   \n",
       "3   2017-12-19 23:24:49 2017-12-19 21:35:39      Cerrado         Negativo   \n",
       "4   2017-12-19 23:39:56 2017-12-19 21:36:33      Cerrado         Negativo   \n",
       "\n",
       "  fecha_hora_ini_llamada fecha_hora_fin_llamada  \\\n",
       "0    2017-12-19 17:13:16    2017-12-19 17:15:06   \n",
       "1    2017-12-19 20:38:17    2017-12-19 20:40:08   \n",
       "2    2017-12-19 22:43:43    2017-12-19 22:44:21   \n",
       "3    2017-12-19 23:24:23    2017-12-19 23:24:49   \n",
       "4    2017-12-19 23:39:23    2017-12-19 23:39:56   \n",
       "\n",
       "               nombre_tipo_evento nombre_subtipo_evento origen_llamada  \\\n",
       "0                   Confrontación              Familiar            911   \n",
       "1  Violencia Familiar No Infantil              Familiar            911   \n",
       "2                   Confrontación              Familiar            911   \n",
       "3                   Confrontación              Familiar            911   \n",
       "4  Violencia Familiar No Infantil             De Genero            911   \n",
       "\n",
       "      fecha_hora_asig    fecha_hora_arrib      fecha_c_ticket hora_c_ticket  \\\n",
       "0 2017-12-19 17:26:48 2017-12-19 17:27:16 2017-12-19 17:15:07      17:15:07   \n",
       "1 2017-12-19 20:42:34 2017-12-19 20:43:11 2017-12-19 20:40:08      20:40:08   \n",
       "2 2017-12-19 22:51:48 2017-12-19 22:52:00 2017-12-19 22:44:21      22:44:21   \n",
       "3 2017-12-19 23:35:53                 NaT 2017-12-19 23:24:49      23:24:49   \n",
       "4 2017-12-19 23:40:54 2017-12-19 23:44:49 2017-12-19 23:39:56      23:39:56   \n",
       "\n",
       "   anio_ticket  mes_ticket  \n",
       "0         2017          12  \n",
       "1         2017          12  \n",
       "2         2017          12  \n",
       "3         2017          12  \n",
       "4         2017          12  "
      ]
     },
     "execution_count": 28,
     "metadata": {},
     "output_type": "execute_result"
    }
   ],
   "source": [
    "ds_tickets.head()"
   ]
  },
  {
   "cell_type": "code",
   "execution_count": 29,
   "metadata": {},
   "outputs": [
    {
     "data": {
      "text/plain": [
       "<AxesSubplot:xlabel='anio_ticket', ylabel='count'>"
      ]
     },
     "execution_count": 29,
     "metadata": {},
     "output_type": "execute_result"
    },
    {
     "data": {
      "image/png": "[encoded data removed]",
      "text/plain": [
       "<Figure size 432x288 with 1 Axes>"
      ]
     },
     "metadata": {
      "needs_background": "light"
     },
     "output_type": "display_data"
    }
   ],
   "source": [
    "#Graficamos las evolucion anual de los tickets\n",
    "sns.countplot(data = ds_tickets, x = \"anio_ticket\")"
   ]
  },
  {
   "cell_type": "code",
   "execution_count": 30,
   "metadata": {},
   "outputs": [
    {
     "data": {
      "text/plain": [
       "array([12], dtype=int64)"
      ]
     },
     "execution_count": 30,
     "metadata": {},
     "output_type": "execute_result"
    }
   ],
   "source": [
    "ds_tickets[(ds_tickets['anio_ticket'] == 2017)].fecha_creacion_ticket.dt.month.unique()"
   ]
  },
  {
   "cell_type": "markdown",
   "metadata": {},
   "source": [
    "Vemos que del año 2017 solamente tenemos datos de diciembre, por lo tanto lo excluimos del dataset"
   ]
  },
  {
   "cell_type": "code",
   "execution_count": 31,
   "metadata": {},
   "outputs": [
    {
     "data": {
      "text/plain": [
       "<AxesSubplot:xlabel='anio_ticket', ylabel='count'>"
      ]
     },
     "execution_count": 31,
     "metadata": {},
     "output_type": "execute_result"
    },
    {
     "data": {
      "image/png": "[encoded data removed]",
      "text/plain": [
       "<Figure size 432x288 with 1 Axes>"
      ]
     },
     "metadata": {
      "needs_background": "light"
     },
     "output_type": "display_data"
    }
   ],
   "source": [
    "ds_tickets = ds_tickets[ds_tickets['anio_ticket'] != 2017]\n",
    "#Graficamos las evolucion mensual para el año 2019\n",
    "sns.countplot(data = ds_tickets, x = \"anio_ticket\")"
   ]
  },
  {
   "cell_type": "code",
   "execution_count": 32,
   "metadata": {},
   "outputs": [
    {
     "data": {
      "text/plain": [
       "<AxesSubplot:xlabel='mes', ylabel='tickets'>"
      ]
     },
     "execution_count": 32,
     "metadata": {},
     "output_type": "execute_result"
    },
    {
     "data": {
      "image/png": "[encoded data removed]",
      "text/plain": [
       "<Figure size 432x288 with 1 Axes>"
      ]
     },
     "metadata": {
      "needs_background": "light"
     },
     "output_type": "display_data"
    }
   ],
   "source": [
    "#Agrupamos los datos por año y mes\n",
    "ds_tickets_agrupados = ds_tickets[[\"anio_ticket\",\"mes_ticket\"]].groupby(['anio_ticket','mes_ticket']).size().reset_index()\n",
    "ds_tickets_agrupados.columns = ['anio', 'mes', 'tickets']\n",
    "\n",
    "\n",
    "#Graficamos las curvas de distribución a lo largo de cada año y las comparamos\n",
    "sns.lineplot(data=ds_tickets_agrupados[ds_tickets_agrupados['anio']==2018][['mes', 'tickets']], x='mes', y='tickets')\n",
    "sns.lineplot(data=ds_tickets_agrupados[ds_tickets_agrupados['anio']==2019][['mes', 'tickets']], x='mes', y='tickets')\n",
    "sns.lineplot(data=ds_tickets_agrupados[ds_tickets_agrupados['anio']==2020][['mes', 'tickets']], x='mes', y='tickets')"
   ]
  },
  {
   "cell_type": "code",
   "execution_count": null,
   "metadata": {},
   "outputs": [],
   "source": []
  }
 ],
 "metadata": {
  "kernelspec": {
   "display_name": "Python 3",
   "language": "python",
   "name": "python3"
  },
  "language_info": {
   "codemirror_mode": {
    "name": "ipython",
    "version": 3
   },
   "file_extension": ".py",
   "mimetype": "text/x-python",
   "name": "python",
   "nbconvert_exporter": "python",
   "pygments_lexer": "ipython3",
   "version": "3.8.5"
  }
 },
 "nbformat": 4,
 "nbformat_minor": 4
}
